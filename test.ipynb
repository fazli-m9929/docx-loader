{
 "cells": [
  {
   "cell_type": "code",
   "execution_count": 1,
   "metadata": {},
   "outputs": [],
   "source": [
    "from docx import Document\n",
    "from lxml import etree\n",
    "from docx_parser.utils import (\n",
    "    contains_mathml,\n",
    "    xml_to_text,\n",
    "    extract_toc_entries\n",
    ")"
   ]
  },
  {
   "cell_type": "code",
   "execution_count": 2,
   "metadata": {},
   "outputs": [],
   "source": [
    "doc_path = 'test_document.docx'\n",
    "document_obj = Document(doc_path)"
   ]
  },
  {
   "cell_type": "markdown",
   "metadata": {},
   "source": [
    "# Formula"
   ]
  },
  {
   "cell_type": "code",
   "execution_count": 6,
   "metadata": {},
   "outputs": [
    {
     "name": "stdout",
     "output_type": "stream",
     "text": [
      "True\n",
      "$A\\=(\\sqrt3x+4)/(mc^2\\)+\\sum_(i=1)^4\\of8i$\n"
     ]
    }
   ],
   "source": [
    "print(contains_mathml(document_obj._body._element[29]))\n",
    "\n",
    "print(xml_to_text(document_obj._body._element[29]))"
   ]
  },
  {
   "cell_type": "markdown",
   "metadata": {},
   "source": [
    "# TOC"
   ]
  },
  {
   "cell_type": "code",
   "execution_count": 75,
   "metadata": {},
   "outputs": [
    {
     "name": "stdout",
     "output_type": "stream",
     "text": [
      "Table of Contents\n",
      "Paragraphs\t\tPage 1\n",
      "Lists\t\tPage 1\n",
      "Tables\t\tPage 1\n",
      "Images\t\tPage 2\n",
      "Hyperlinks\t\tPage 2\n",
      "Bookmarks\t\tPage 2\n",
      "Formulas\t\tPage 2\n",
      "Sections\t\tPage 2\n",
      "Styles\t\tPage 3\n",
      "Comments\t\tPage 3\n"
     ]
    }
   ],
   "source": [
    "tree = document_obj._body._element[0]\n",
    "print(extract_toc_entries(tree))"
   ]
  },
  {
   "cell_type": "markdown",
   "metadata": {},
   "source": [
    "# Test"
   ]
  },
  {
   "cell_type": "code",
   "execution_count": 49,
   "metadata": {},
   "outputs": [
    {
     "name": "stdout",
     "output_type": "stream",
     "text": [
      "0: None → meta: sdt\n",
      "1: Test Document → meta: p\n",
      "2: Paragraphs → meta: p\n",
      "3: This is a normal paragraph. This text is bold. This text is italic. This text is underlined.  → meta: p\n",
      "4: Lists → meta: p\n",
      "5: First list → meta: p\n",
      "6: First item in unordered list → meta: p\n",
      "7: Sub list → meta: p\n",
      "8: Sub list 2 → meta: p\n",
      "9: Second item in unordered list → meta: p\n",
      "10: Third item in unordered list → meta: p\n",
      "11: Second list → meta: p\n",
      "12: First item in ordered list → meta: p\n",
      "13: Second item in ordered list → meta: p\n",
      "14: Tables → meta: p\n",
      "15: Test table → meta: p\n",
      "16: Table 1. test table → meta: p\n",
      "17: None → meta: tbl\n",
      "18: Images → meta: p\n",
      "19: Inline image in Figure 1 → meta: p\n",
      "20:  → meta: p\n",
      "21: Figure 1. test caption → meta: p\n",
      "22: Hyperlinks → meta: p\n",
      "23: This is a hyperlink → meta: p\n",
      "24: Bookmarks → meta: p\n",
      "25: This is a paragraph with a bookmark → meta: p\n",
      "26: This is another one → meta: p\n",
      "27: Formulas → meta: p\n",
      "28: Formula: → meta: p\n",
      "29:  → meta: p\n",
      "30: Formula in box → meta: p\n",
      "31: None → meta: tbl\n",
      "32:  → meta: p\n",
      "33: Sections → meta: p\n",
      "34: Test text → meta: p\n",
      "35:  → meta: p\n",
      "36:  → meta: p\n",
      "37: Styles → meta: p\n",
      "38: This is a custom style paragraph. → meta: p\n",
      "39: Comments → meta: p\n",
      "40: This is a paragraph with a comment. → meta: p\n",
      "41:  → meta: p\n",
      "42: test → meta: p\n",
      "43: None → meta: sectPr\n"
     ]
    }
   ],
   "source": [
    "for idx, i in enumerate(document_obj._body._element):\n",
    "    # if i.tag.endswith('tbl'):\n",
    "        print(f'{idx}: {i.text} → meta: {i.tag.split(\"}\")[-1]}')"
   ]
  },
  {
   "cell_type": "code",
   "execution_count": null,
   "metadata": {},
   "outputs": [],
   "source": []
  }
 ],
 "metadata": {
  "kernelspec": {
   "display_name": "Python 3",
   "language": "python",
   "name": "python3"
  },
  "language_info": {
   "codemirror_mode": {
    "name": "ipython",
    "version": 3
   },
   "file_extension": ".py",
   "mimetype": "text/x-python",
   "name": "python",
   "nbconvert_exporter": "python",
   "pygments_lexer": "ipython3",
   "version": "3.10.8"
  }
 },
 "nbformat": 4,
 "nbformat_minor": 2
}
