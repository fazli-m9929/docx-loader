{
 "cells": [
  {
   "cell_type": "code",
   "execution_count": 1,
   "metadata": {},
   "outputs": [],
   "source": [
    "from docx import Document\n",
    "from lxml import etree\n",
    "from docx_parser.utils import (\n",
    "    contains_mathml,\n",
    "    mathml_to_latex,\n",
    "    extract_toc_entries\n",
    ")"
   ]
  },
  {
   "cell_type": "code",
   "execution_count": 2,
   "metadata": {},
   "outputs": [],
   "source": [
    "doc_path = 'test_document.docx'\n",
    "document_obj = Document(doc_path)"
   ]
  },
  {
   "cell_type": "markdown",
   "metadata": {},
   "source": [
    "# Formula"
   ]
  },
  {
   "cell_type": "code",
   "execution_count": 3,
   "metadata": {},
   "outputs": [
    {
     "name": "stdout",
     "output_type": "stream",
     "text": [
      "True\n",
      "E = mc^{2}\n"
     ]
    }
   ],
   "source": [
    "print(contains_mathml(document_obj._body._element[27]))\n",
    "\n",
    "print(mathml_to_latex(document_obj._body._element[27]))"
   ]
  },
  {
   "cell_type": "markdown",
   "metadata": {},
   "source": [
    "# TOC"
   ]
  },
  {
   "cell_type": "code",
   "execution_count": 4,
   "metadata": {},
   "outputs": [
    {
     "name": "stdout",
     "output_type": "stream",
     "text": [
      "Table of Contents\n",
      "Paragraphs\t\tPage 1\n",
      "Lists\t\tPage 1\n",
      "Tables\t\tPage 1\n",
      "Images\t\tPage 2\n",
      "Hyperlinks\t\tPage 2\n",
      "Bookmarks\t\tPage 2\n",
      "Formulas\t\tPage 2\n",
      "Sections\t\tPage 2\n",
      "Styles\t\tPage 3\n",
      "Comments\t\tPage 3\n"
     ]
    }
   ],
   "source": [
    "tree = document_obj._body._element[0]\n",
    "print(extract_toc_entries(tree))"
   ]
  },
  {
   "cell_type": "markdown",
   "metadata": {},
   "source": [
    "# Test"
   ]
  },
  {
   "cell_type": "code",
   "execution_count": 5,
   "metadata": {},
   "outputs": [
    {
     "name": "stdout",
     "output_type": "stream",
     "text": [
      "0: None → meta: sdt\n",
      "1: Test Document → meta: p\n",
      "2: Paragraphs → meta: p\n",
      "3: This is a normal paragraph. This text is bold. This text is italic. This text is underlined.  → meta: p\n",
      "4: Lists → meta: p\n",
      "5: First list → meta: p\n",
      "6: First item in unordered list → meta: p\n",
      "7: Second item in unordered list → meta: p\n",
      "8:  → meta: p\n",
      "9: Second list → meta: p\n",
      "10: First item in ordered list → meta: p\n",
      "11: Second item in ordered list → meta: p\n",
      "12: Tables → meta: p\n",
      "13: Test table → meta: p\n",
      "14: Table 1. test table → meta: p\n",
      "15: None → meta: tbl\n",
      "16: Images → meta: p\n",
      "17: Inline image in Figure 1 → meta: p\n",
      "18:  → meta: p\n",
      "19: Figure 1. test caption → meta: p\n",
      "20: Hyperlinks → meta: p\n",
      "21: This is a hyperlink → meta: p\n",
      "22: Bookmarks → meta: p\n",
      "23: This is a paragraph with a bookmark → meta: p\n",
      "24: This is another one → meta: p\n",
      "25: Formulas → meta: p\n",
      "26: Formula: → meta: p\n",
      "27:  → meta: p\n",
      "28: Formula in box → meta: p\n",
      "29: None → meta: tbl\n",
      "30:  → meta: p\n",
      "31: Sections → meta: p\n",
      "32: Test text → meta: p\n",
      "33:  → meta: p\n",
      "34:  → meta: p\n",
      "35: Styles → meta: p\n",
      "36: This is a custom style paragraph. → meta: p\n",
      "37: Comments → meta: p\n",
      "38: This is a paragraph with a comment. → meta: p\n",
      "39:  → meta: p\n",
      "40: test → meta: p\n",
      "41: None → meta: sectPr\n"
     ]
    }
   ],
   "source": [
    "for idx, i in enumerate(document_obj.element.body):\n",
    "    # if i.tag.endswith('tbl'):\n",
    "        print(f'{idx}: {i.text} → meta: {i.tag.split(\"}\")[-1]}')"
   ]
  }
 ],
 "metadata": {
  "kernelspec": {
   "display_name": "Python 3",
   "language": "python",
   "name": "python3"
  },
  "language_info": {
   "codemirror_mode": {
    "name": "ipython",
    "version": 3
   },
   "file_extension": ".py",
   "mimetype": "text/x-python",
   "name": "python",
   "nbconvert_exporter": "python",
   "pygments_lexer": "ipython3",
   "version": "3.10.8"
  }
 },
 "nbformat": 4,
 "nbformat_minor": 2
}
