{
 "cells": [
  {
   "cell_type": "code",
   "execution_count": 1,
   "metadata": {},
   "outputs": [],
   "source": [
    "from docx import Document\n",
    "from lxml import etree\n",
    "from docx_parser.utils import (\n",
    "    contains_mathml,\n",
    "    xml_to_text,\n",
    "    extract_toc_entries,\n",
    "    table_to_plain_text,\n",
    "    create_element_index_dict,\n",
    "    generate_text_list,\n",
    ")"
   ]
  },
  {
   "cell_type": "code",
   "execution_count": 2,
   "metadata": {},
   "outputs": [],
   "source": [
    "doc_path = 'test_document.docx'\n",
    "doc_path = r'C:\\Users\\fazli.mr\\Projects\\Chat-Bot\\docs\\cleaned\\INSO 10258 - ISO 10113- Final.docx'\n",
    "document_obj = Document(doc_path)"
   ]
  },
  {
   "cell_type": "markdown",
   "metadata": {},
   "source": [
    "# Specific elements"
   ]
  },
  {
   "cell_type": "markdown",
   "metadata": {},
   "source": [
    "## TOC"
   ]
  },
  {
   "cell_type": "code",
   "execution_count": 3,
   "metadata": {},
   "outputs": [
    {
     "name": "stdout",
     "output_type": "stream",
     "text": [
      "Table of Contents\n",
      "Paragraphs\t\tPage 1\n",
      "Lists\t\tPage 1\n",
      "Tables\t\tPage 1\n",
      "Images\t\tPage 2\n",
      "Hyperlinks\t\tPage 2\n",
      "Bookmarks\t\tPage 2\n",
      "Formulas\t\tPage 2\n",
      "Sections\t\tPage 2\n",
      "Styles\t\tPage 3\n",
      "Comments\t\tPage 3\n"
     ]
    }
   ],
   "source": [
    "tree = document_obj._body._element[0]\n",
    "print(extract_toc_entries(tree))"
   ]
  },
  {
   "cell_type": "markdown",
   "metadata": {},
   "source": [
    "## Formula"
   ]
  },
  {
   "cell_type": "code",
   "execution_count": 4,
   "metadata": {},
   "outputs": [
    {
     "name": "stdout",
     "output_type": "stream",
     "text": [
      "True\n",
      "$A\\=(\\sqrt3x+4)/(mc^2\\)+\\sum_(i=1)^4\\of8i$\n"
     ]
    }
   ],
   "source": [
    "print(contains_mathml(document_obj._body._element[36]))\n",
    "\n",
    "print(xml_to_text(document_obj._body._element[36]))"
   ]
  },
  {
   "cell_type": "markdown",
   "metadata": {},
   "source": [
    "## Tables"
   ]
  },
  {
   "cell_type": "code",
   "execution_count": 5,
   "metadata": {},
   "outputs": [
    {
     "name": "stdout",
     "output_type": "stream",
     "text": [
      "[ Cell 1,1 | Cell 1,2 ]\n",
      "[ Cell 2,1 | Cell 2,2 ]\n",
      "[ Cell 3,1 | Cell 3,2,1 ]\n",
      "[ \t | Cell 3,2,2 ]\n",
      "[ Cell 4 ]\n",
      "\n",
      "[ (1) | $E\\=\\mc^2$ ]\n",
      "\n"
     ]
    }
   ],
   "source": [
    "print(table_to_plain_text(document_obj.tables[0]))\n",
    "print(table_to_plain_text(document_obj.tables[1]))"
   ]
  },
  {
   "cell_type": "markdown",
   "metadata": {},
   "source": [
    "# Test"
   ]
  },
  {
   "cell_type": "code",
   "execution_count": 12,
   "metadata": {},
   "outputs": [],
   "source": [
    "from doc_loader import DocumentLoader\n",
    "from langchain_text_splitters import RecursiveCharacterTextSplitter"
   ]
  },
  {
   "cell_type": "code",
   "execution_count": 18,
   "metadata": {},
   "outputs": [],
   "source": [
    "loader = DocumentLoader(doc_path)\n",
    "docs = loader.load()\n",
    "text_splitter = RecursiveCharacterTextSplitter(chunk_size=1500, chunk_overlap=400)\n",
    "splits = text_splitter.split_documents(docs)"
   ]
  }
 ],
 "metadata": {
  "kernelspec": {
   "display_name": "Python 3",
   "language": "python",
   "name": "python3"
  },
  "language_info": {
   "codemirror_mode": {
    "name": "ipython",
    "version": 3
   },
   "file_extension": ".py",
   "mimetype": "text/x-python",
   "name": "python",
   "nbconvert_exporter": "python",
   "pygments_lexer": "ipython3",
   "version": "3.10.8"
  }
 },
 "nbformat": 4,
 "nbformat_minor": 2
}
